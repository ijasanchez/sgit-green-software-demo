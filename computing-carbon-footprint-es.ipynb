{
 "cells": [
  {
   "cell_type": "markdown",
   "id": "ee808791",
   "metadata": {},
   "source": [
    "# Jose Alejandro Sanchez, Miembro de Green Software Foundation y ACIS\n",
    "\n",
    "<div style=\"text-align: center;\">\n",
    "  <img src=\"images/GSF-ACIS.png\" alt=\"Comunidad Green Software Colombia\" width=\"300\"/>\n",
    "</div>"
   ]
  },
  {
   "cell_type": "markdown",
   "id": "1bec77a2",
   "metadata": {},
   "source": [
    "## Entendimiento del negocio\n",
    "\n",
    "### Contexto del negocio\n",
    "\n",
    "\n",
    "### ¿Qué es el software verde?​\n",
    "\n",
    "El software verde, también conocido como software sostenible, es paradigma en ingeniería de software que busca desarrollar aplicaciones que emitan menos carbono y reduzcan su impacto ambiental. Este paradigma se centra en tres actividades principales para crear aplicaciones más ecológicas:\n",
    "\n",
    "+ **Eficiencia energética**: Consiste en diseñar aplicaciones que consuman la menor cantidad de energía eléctrica posible, lo que a su vez disminuye las emisiones de carbono.\n",
    "\n",
    "+ **Conciencia de carbono**: Implica ejecutar cargas de trabajo computacional en momentos en que la energía eléctrica proviene en mayor medida de fuentes de baja emisión de carbono, y reducir la actividad cuando la energía eléctrica proviene de fuentes con alta emisión de carbono.\n",
    "\n",
    "+ **Eficiencia del hardware**: Se refiere al uso de dispositivos que al ejecutar aplicaciones, consumen menos electricidad y recursos, optimizando así el rendimiento energético del hardware. \n",
    "\n",
    "En resumen, *el software verde se centra en desarrollar y ejecutar aplicaciones que consuman menos energía y, por ende, emitan menos carbono, contribuyendo a la sostenibilidad ambiental*."
   ]
  },
  {
   "cell_type": "markdown",
   "id": "b15d0700-6d11-43dd-878a-d25f0abc6e04",
   "metadata": {},
   "source": [
    "<div style=\"text-align: center;\">\n",
    "  <img src=\"images/software-verde.png\" alt=\"Software verde\" width=\"600\"/>\n",
    "</div>"
   ]
  },
  {
   "cell_type": "markdown",
   "id": "906135c3",
   "metadata": {},
   "source": [
    "### Otros conceptos relevantes\n",
    "\n",
    "\n",
    "<div style=\"text-align: center;\">\n",
    "  <img src=\"images/conceptos-it-verde.png\" alt=\"Software verde\" width=\"900\"/>\n",
    "</div>"
   ]
  },
  {
   "cell_type": "markdown",
   "id": "f9918d20",
   "metadata": {},
   "source": [
    "### Desafío de programación\n",
    "\n",
    "#### ¿Qué es la serie de números de Lucas?\n",
    "\n",
    "La serie de Lucas es una secuencia de números enteros estrechamente relacionada con la secuencia de Fibonacci. La diferencia clave radica en los valores iniciales:\n",
    "\n",
    "![Metadada](images/lucas-serie.jpg)\n",
    "\n",
    "Fibonacci inicia con: **0, 1**\n",
    "\n",
    "Lucas inicia con: **1, 3**\n",
    "\n",
    "L₀ = 1\n",
    "\n",
    "L₁ = 3\n",
    "\n",
    "L₂ = L₀ + L₁ = 1 + 3 = 4\n",
    "\n",
    "L₃ = L₁ + L₂ = 3 + 4 = 7\n",
    "\n",
    "L₄ = L₂ + L₃ = 4 + 7 = 11...\n",
    "\n",
    "#### El comienzo de la secuencia de Lucas se ve así:\n",
    "\n",
    "**1, 3, 4, 7, 11, 18, 29, ...**\n"
   ]
  },
  {
   "cell_type": "markdown",
   "id": "b75b6f6c",
   "metadata": {},
   "source": [
    "## Preparando el entorno\n",
    "\n",
    "* **CodeCarbon** es un paquete de Python que te ayuda a rastrear la huella de carbono de tu código. Estima y registra las emisiones de carbono generadas por tu computadora, permitiéndote cuantificarlas y analizarlas.\n",
    "  \n",
    "* **CodeCarbon** estima el consumo de energía eléctrica de su hardware (GPU + CPU + RAM)basado en la intensidad de carbono de la región donde se realiza el cálculo. Puede obtener más detalles en [Metodología de cálculo Code Carbon](https://mlco2.github.io/codecarbon/methodology.html#).\n",
    "\n",
    "<div style=\"text-align: center;\">\n",
    "  <img src=\"images/huella-carbono-codecarbon.png\" alt=\"Huella de carbono\" width=\"900\"/>\n",
    "</div>\n"
   ]
  },
  {
   "cell_type": "markdown",
   "id": "73a96347",
   "metadata": {},
   "source": [
    "### Instalando librerías"
   ]
  },
  {
   "cell_type": "code",
   "execution_count": null,
   "id": "71a28b2b",
   "metadata": {},
   "outputs": [],
   "source": [
    "!pip install -r requirements.txt"
   ]
  },
  {
   "cell_type": "markdown",
   "id": "7b3dd362",
   "metadata": {},
   "source": [
    "### Importando librerías que se necesitan para el cálculo"
   ]
  },
  {
   "cell_type": "code",
   "execution_count": null,
   "id": "eabf5370",
   "metadata": {},
   "outputs": [],
   "source": [
    "import time\n",
    "import pandas as pd\n",
    "from codecarbon import EmissionsTracker"
   ]
  },
  {
   "cell_type": "markdown",
   "id": "8fcf30bd",
   "metadata": {},
   "source": [
    "### Adicionando algunas librerías comunes"
   ]
  },
  {
   "cell_type": "code",
   "execution_count": null,
   "id": "d706a882",
   "metadata": {},
   "outputs": [],
   "source": [
    "from notebook_utils import *"
   ]
  },
  {
   "cell_type": "markdown",
   "id": "4782202c",
   "metadata": {},
   "source": [
    "## Implementando rutinas de generación de la serie Lucas\n",
    "\n",
    "### Función iterativa"
   ]
  },
  {
   "cell_type": "code",
   "execution_count": null,
   "id": "d0b7d32a",
   "metadata": {},
   "outputs": [],
   "source": [
    "def generate_lucas_serie_iterative(length):\n",
    "    \"\"\"Generate a list with the first 'length' terms of the Lucas sequence using iteration.\"\"\"\n",
    "    if length <= 0:\n",
    "        return []\n",
    "    \n",
    "    sequence = []\n",
    "    previous, current = 1, 3\n",
    "\n",
    "    for _ in range(length):\n",
    "        sequence.append(previous)\n",
    "        previous, current = current, previous + current\n",
    "\n",
    "    return sequence"
   ]
  },
  {
   "cell_type": "code",
   "execution_count": null,
   "id": "35f17023",
   "metadata": {},
   "outputs": [],
   "source": [
    "# Example: first 7 terms\n",
    "print(generate_lucas_serie_iterative(7))"
   ]
  },
  {
   "cell_type": "markdown",
   "id": "c4e54bb6",
   "metadata": {},
   "source": [
    "### Función recursiva"
   ]
  },
  {
   "cell_type": "code",
   "execution_count": null,
   "id": "8f60dc75",
   "metadata": {},
   "outputs": [],
   "source": [
    "def obtain_lucas_number(position):\n",
    "    \"\"\"Recursively compute the Lucas number at a specific position.\"\"\"\n",
    "    if position < 0:\n",
    "        raise ValueError(\"Position must be a non-negative integer\")\n",
    "    if position == 0:\n",
    "        return 1\n",
    "    if position == 1:\n",
    "        return 3\n",
    "    return obtain_lucas_number(position - 1) + obtain_lucas_number(position - 2)\n",
    "\n",
    "def generate_lucas_sequence_recursive(length):\n",
    "    \"\"\"Generate the first 'length' terms of the Lucas sequence using recursion.\"\"\"\n",
    "    return [obtain_lucas_number(i) for i in range(length)]"
   ]
  },
  {
   "cell_type": "code",
   "execution_count": null,
   "id": "534bdf19",
   "metadata": {},
   "outputs": [],
   "source": [
    "print(generate_lucas_sequence_recursive(7))"
   ]
  },
  {
   "cell_type": "markdown",
   "id": "1f90e4dc",
   "metadata": {},
   "source": [
    "## Implementación de una función para medir el consumo de energía eléctrica y el tiempo de ejecución"
   ]
  },
  {
   "cell_type": "code",
   "execution_count": null,
   "id": "653f5678",
   "metadata": {},
   "outputs": [],
   "source": [
    "# Initialize the log storage\n",
    "benchmark_log = []\n",
    "\n",
    "def measure_performance(function, input_size, description, execution_type):\n",
    "    \"\"\"\n",
    "    Measures execution time and carbon emissions for a given function.\n",
    "    \n",
    "    Args:\n",
    "        function (callable): The function to benchmark.\n",
    "        input_size (int): Input parameter (typically 'n').\n",
    "        description (str): Description of the function.\n",
    "        execution_type (str): Type of implementation, e.g., 'iterative', 'recursive'.\n",
    "    \"\"\"\n",
    "    tracker = EmissionsTracker(\n",
    "        output_dir='data',\n",
    "        output_file='lucas_emissions.csv',\n",
    "        tracking_mode='process',\n",
    "        log_level='warning',\n",
    "        project_name=description\n",
    "    )\n",
    "\n",
    "    tracker.start()\n",
    "    start_time = time.time()\n",
    "    function(input_size)\n",
    "    end_time = time.time()\n",
    "    emissions = tracker.stop()\n",
    "    duration = end_time - start_time\n",
    "\n",
    "    benchmark_log.append({\n",
    "        \"description\": description,\n",
    "        \"execution_type\": execution_type,\n",
    "        \"input_size\": input_size,\n",
    "        \"execution_time\": duration,\n",
    "        \"emissions\": emissions\n",
    "    })\n",
    "\n",
    "def get_benchmark_dataframe():\n",
    "    \"\"\"Returns the current benchmark log as a pandas DataFrame.\"\"\"\n",
    "    return pd.DataFrame(benchmark_log)"
   ]
  },
  {
   "cell_type": "code",
   "execution_count": null,
   "id": "1d716b48",
   "metadata": {},
   "outputs": [],
   "source": [
    "measure_performance(generate_lucas_serie_iterative, 10, \"Lucas Sequence - Iterative\", \"iterative\")\n",
    "measure_performance(generate_lucas_serie_iterative, 20, \"Lucas Sequence - Iterative\", \"iterative\")\n",
    "measure_performance(generate_lucas_serie_iterative, 30, \"Lucas Sequence - Iterative\", \"iterative\")\n",
    "\n",
    "measure_performance(generate_lucas_sequence_recursive, 10, \"Lucas Sequence - Recursive\", \"recursive\")\n",
    "measure_performance(generate_lucas_sequence_recursive, 20, \"Lucas Sequence - Recursive\", \"recursive\")\n",
    "measure_performance(generate_lucas_sequence_recursive, 30, \"Lucas Sequence - Recursive\", \"recursive\")\n",
    "\n",
    "# Display the benchmark results\n",
    "get_benchmark_dataframe()"
   ]
  },
  {
   "cell_type": "code",
   "execution_count": null,
   "id": "d0b27ed7",
   "metadata": {},
   "outputs": [],
   "source": [
    "measure_performance(generate_lucas_serie_iterative, 40, \"Lucas Sequence - Iterative\", \"iterative\")\n",
    "measure_performance(generate_lucas_serie_iterative, 50, \"Lucas Sequence - Iterative\", \"iterative\")\n",
    "measure_performance(generate_lucas_serie_iterative, 60, \"Lucas Sequence - Iterative\", \"iterative\")"
   ]
  },
  {
   "cell_type": "code",
   "execution_count": null,
   "id": "107cef9c",
   "metadata": {},
   "outputs": [],
   "source": [
    "# Display the benchmark results\n",
    "get_benchmark_dataframe()"
   ]
  },
  {
   "cell_type": "code",
   "execution_count": null,
   "id": "c1bf8e8a",
   "metadata": {},
   "outputs": [],
   "source": [
    "measure_performance(generate_lucas_sequence_recursive, 40, \"Lucas Sequence - Recursive\", \"recursive\")"
   ]
  },
  {
   "cell_type": "code",
   "execution_count": null,
   "id": "7fcbb329",
   "metadata": {},
   "outputs": [],
   "source": [
    "# Display the benchmark results\n",
    "get_benchmark_dataframe()"
   ]
  },
  {
   "cell_type": "code",
   "execution_count": null,
   "id": "f35acff2",
   "metadata": {},
   "outputs": [],
   "source": [
    "measure_performance(generate_lucas_sequence_recursive, 40, \"Lucas Sequence - Recursive\", \"recursive\")"
   ]
  },
  {
   "cell_type": "code",
   "execution_count": null,
   "id": "515c77c8",
   "metadata": {},
   "outputs": [],
   "source": [
    "# Display the benchmark results\n",
    "get_benchmark_dataframe()"
   ]
  },
  {
   "cell_type": "markdown",
   "id": "c33416b2",
   "metadata": {},
   "source": [
    "## Entendiendo el resultado"
   ]
  },
  {
   "cell_type": "markdown",
   "id": "0a787b7c",
   "metadata": {},
   "source": [
    "### Describiendo los datos\n",
    "\n",
    "| **Variable**     | **Tipo**  | **Descripción**                                                                                     |\n",
    "|------------------|----------|------------------------------------------------------------------------------------------------------|\n",
    "| `description`    | String   | Explicación breve del segmento de código o función que se está analizando.                           |\n",
    "| `execution_type` | String   | Método de ejecución que puede ser  'iterativo' o 'recursivo'.                                        |\n",
    "| `input_size`     | Integer  | Tamaño o magnitud de los datos de entrada procesados durante la ejecución del código.                |\n",
    "| `execution_time` | Float    | Duración de la ejecución del código en segundos.                                                     |\n",
    "| `emissions`      | Float    | Cantidad estimada de emisiones de CO₂ producidas durante la ejecución del código, medida en kilogramos (kg). |\n"
   ]
  },
  {
   "cell_type": "markdown",
   "id": "ba746c33",
   "metadata": {},
   "source": [
    "<div style=\"text-align: center;\">\n",
    "  <img src=\"images/transportation_carbon_footprint.png\" alt=\"Huella de carbono del transporte\" width=\"700\"/>\n",
    "</div>"
   ]
  },
  {
   "cell_type": "code",
   "execution_count": null,
   "id": "0bda36f0",
   "metadata": {},
   "outputs": [],
   "source": [
    "lucas_measures_df = get_benchmark_dataframe()\n",
    "lucas_measures_df.to_csv('data/lucas_measures.csv', index=False)"
   ]
  },
  {
   "cell_type": "markdown",
   "id": "70b4f4dd",
   "metadata": {},
   "source": [
    "### Analizando los datos"
   ]
  },
  {
   "cell_type": "code",
   "execution_count": null,
   "id": "a8c04c41",
   "metadata": {},
   "outputs": [],
   "source": [
    "plot_metric_vs_input_size(lucas_measures_df, 'emissions')"
   ]
  },
  {
   "cell_type": "code",
   "execution_count": null,
   "id": "96ef57ce",
   "metadata": {},
   "outputs": [],
   "source": [
    "plot_metric_vs_input_size(lucas_measures_df, 'execution_time')"
   ]
  },
  {
   "cell_type": "markdown",
   "id": "da8a1978",
   "metadata": {},
   "source": [
    "##  ### Analizando la correlación\n",
    "\n",
    "La **correlación** es una forma de medir cómo se relacionan dos cosas.\n",
    "\n",
    "Si una medida aumenta y la otra también, eso se llama una **correlación positiva**.  \n",
    "Si una medida aumenta mientras la otra disminuye, eso es una **correlación negativa**.  \n",
    "Si no hay un patrón claro entre ellas, decimos que **no hay correlación**.\n",
    "\n",
    "El resultado de la correlación es un número entre **-1** y **1**:\n",
    "\n",
    "- **+1** → correlación positiva perfecta  \n",
    "- **-1** → correlación negativa perfecta  \n",
    "- **0** → sin correlación\n",
    "\n",
    "#### Por ejemplo:\n",
    "\n",
    "Imagina:\n",
    "\n",
    "- Cuantas más horas **estudias**, **mejores notas** obtienes. 📚✏️  \n",
    "  → Esto es una **correlación positiva**.\n",
    "\n",
    "- Cuantas más horas **ves televisión**, **más bajas pueden ser tus notas**. 📺😅  \n",
    "  → Esto podría ser una **correlación negativa**.\n",
    "\n",
    "- La cantidad de **zapatos que tienes** y tus **notas en matemáticas** probablemente **no tengan correlación**. 👟➕❓  \n",
    "  → Realmente, no están conectados."
   ]
  },
  {
   "cell_type": "code",
   "execution_count": null,
   "id": "d6c2d424",
   "metadata": {},
   "outputs": [],
   "source": [
    "# Calculate correlation\n",
    "correlation = lucas_measures_df['execution_time'].corr(lucas_measures_df['emissions'])\n",
    "\n",
    "print(f\"The correlation between execution_time and emissions is: {correlation}\")"
   ]
  },
  {
   "cell_type": "code",
   "execution_count": null,
   "id": "8fadd059",
   "metadata": {},
   "outputs": [],
   "source": [
    "plot_execution_time_vs_emissions(lucas_measures_df)"
   ]
  },
  {
   "cell_type": "markdown",
   "id": "7fb160b0",
   "metadata": {},
   "source": [
    "<div style=\"text-align: center;\">\n",
    "  <img src=\"images/home_carbon_footprint.png\" alt=\"Huella de carbono en casa\" width=\"700\"/>\n",
    "</div>"
   ]
  },
  {
   "cell_type": "markdown",
   "id": "9d3289de",
   "metadata": {},
   "source": [
    "### Reduciendo costos en la nube disminuirá la huella de carbono\n",
    "\n",
    "<div style=\"text-align: center;\">\n",
    "  <img src=\"images/sgit-cost-reduction.png\" alt=\"Disminución de costos en la nube\" width=\"700\"/>\n",
    "</div>"
   ]
  },
  {
   "cell_type": "markdown",
   "id": "d2991dc8",
   "metadata": {},
   "source": [
    "## Recursos\n",
    "\n",
    "\n",
    "* https://pypi.org/project/codecarbon/\n",
    "* https://learn.greensoftware.foundation/glossary/\n",
    "* https://clevercarbon.io/carbon-footprint-of-common-items#home\n",
    "* https://clevercarbon.io/carbon-footprint-of-common-items#transportation\n",
    "* https://tomrocksmaths.com/2024/01/16/visual-proofs-and-the-lucas-numbers/"
   ]
  }
 ],
 "metadata": {
  "kernelspec": {
   "display_name": "Python 3 (ipykernel)",
   "language": "python",
   "name": "python3"
  },
  "language_info": {
   "codemirror_mode": {
    "name": "ipython",
    "version": 3
   },
   "file_extension": ".py",
   "mimetype": "text/x-python",
   "name": "python",
   "nbconvert_exporter": "python",
   "pygments_lexer": "ipython3",
   "version": "3.9.12"
  }
 },
 "nbformat": 4,
 "nbformat_minor": 5
}
