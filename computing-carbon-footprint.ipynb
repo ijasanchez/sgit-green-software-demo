{
 "cells": [
  {
   "cell_type": "markdown",
   "id": "ee808791",
   "metadata": {},
   "source": [
    "# Jose Alejandro Sanchez, Green Software Foundation Member, ACIS\n",
    "\n",
    "\n",
    "<div style=\"text-align: center;\">\n",
    "  <img src=\"images/GSF-ACIS.png\" alt=\"Comunidad Green Software Colombia\" width=\"300\"/>\n",
    "</div>"
   ]
  },
  {
   "cell_type": "markdown",
   "id": "1bec77a2",
   "metadata": {},
   "source": [
    "## Business Understanding\n",
    "\n",
    "### Business Context\n",
    "\n",
    "#### What is green software?\n",
    "\n",
    "Green software, or sustainable software, is a new paradigm that provides techniques and practices for building apps that emit less carbon. Green software defines three activities for building environmentally friendly apps. \n",
    "\n",
    "Firstly, carbon efficiency refers to executing computing workloads when more energy comes from low-carbon sources and less when more energy comes from high-carbon sources. \n",
    "\n",
    "Secondly, energy efficiency relates to apps that have reduced electricity consumption and subsequently emit less carbon. \n",
    "\n",
    "Finally, hardware efficiency makes reference to any device that can be used to run apps and consumes less electricity and resources when the app runs on that hardware. \n",
    "\n",
    "To sum up, green software refers to building apps or executing computer workloads that consume less energy and, therefore, emit less carbon, making them environmentally friendly. \n",
    "\n",
    "![Metadada](images/green-software.png)"
   ]
  },
  {
   "cell_type": "markdown",
   "id": "906135c3",
   "metadata": {},
   "source": [
    "#### Other crucial concepts\n",
    "\n",
    "![Metadada](images/smart-green-it-concepts.png)"
   ]
  },
  {
   "cell_type": "markdown",
   "id": "f9918d20",
   "metadata": {},
   "source": [
    "### Business Challenge \n",
    "\n",
    "#### What is the Lucas Number Series?\n",
    "\n",
    "The Lucas series is a sequence of integers closely related to the Fibonacci sequence. The key difference lies in the starting values:\n",
    "\n",
    "![Metadada](images/lucas-serie.jpg)\n",
    "\n",
    "Fibonacci starts with: 0, 1\n",
    "\n",
    "Lucas starts with: 1, 3\n",
    "\n",
    "L₀ = 1\n",
    "\n",
    "L₁ = 3\n",
    "\n",
    "L₂ = L₀ + L₁ = 1 + 3 = 4\n",
    "\n",
    "L₃ = L₁ + L₂ = 3 + 4 = 7\n",
    "\n",
    "L₄ = L₂ + L₃ = 4 + 7 = 11...\n",
    "\n",
    "The beginning of the Lucas sequence looks like this:\n",
    "\n",
    "1, 3, 4, 7, 11, 18, 29, ...\n",
    "\n"
   ]
  },
  {
   "cell_type": "markdown",
   "id": "b75b6f6c",
   "metadata": {},
   "source": [
    "## Preparing the environment\n",
    "\n",
    "* **Code carbon** is a Python package that helps you track the carbon footprint of your code. It estimates and tracks the carbon emissions from your computer, quantify and analyze their impact.\n",
    "\n",
    "* **CodeCarbon** estimates the electricity consumption of your hardware (GPU + CPU + RAM) based on the carbon intensity of the region where the computation is performed. You can find more details at [CodeCarbon Calculation Methodology](https://mlco2.github.io/codecarbon/methodology.html#).\n",
    "\n",
    "\n",
    "<div style=\"text-align: center;\">\n",
    "  <img src=\"images/carbon-footprint-codecarbon.png\" alt=\"CodeCarbon\" width=\"900\"/>\n",
    "</div>\n"
   ]
  },
  {
   "cell_type": "markdown",
   "id": "73a96347",
   "metadata": {},
   "source": [
    "### Installing libraries"
   ]
  },
  {
   "cell_type": "code",
   "execution_count": null,
   "id": "71a28b2b",
   "metadata": {},
   "outputs": [],
   "source": [
    "!pip install -r requirements.txt"
   ]
  },
  {
   "cell_type": "markdown",
   "id": "7b3dd362",
   "metadata": {},
   "source": [
    "### Importing packages"
   ]
  },
  {
   "cell_type": "code",
   "execution_count": null,
   "id": "eabf5370",
   "metadata": {},
   "outputs": [],
   "source": [
    "import time\n",
    "import pandas as pd\n",
    "from codecarbon import EmissionsTracker"
   ]
  },
  {
   "cell_type": "markdown",
   "id": "8fcf30bd",
   "metadata": {},
   "source": [
    "### Adding common utilities"
   ]
  },
  {
   "cell_type": "code",
   "execution_count": null,
   "id": "d706a882",
   "metadata": {},
   "outputs": [],
   "source": [
    "from notebook_utils import *"
   ]
  },
  {
   "cell_type": "markdown",
   "id": "4782202c",
   "metadata": {},
   "source": [
    "## Implementing Lucas Series Functions\n",
    "\n",
    "### Iterative Function"
   ]
  },
  {
   "cell_type": "code",
   "execution_count": null,
   "id": "d0b7d32a",
   "metadata": {},
   "outputs": [],
   "source": [
    "def generate_lucas_serie_iterative(length):\n",
    "    \"\"\"Generate a list with the first 'length' terms of the Lucas sequence using iteration.\"\"\"\n",
    "    if length <= 0:\n",
    "        return []\n",
    "    \n",
    "    sequence = []\n",
    "    previous, current = 1, 3\n",
    "\n",
    "    for _ in range(length):\n",
    "        sequence.append(previous)\n",
    "        previous, current = current, previous + current\n",
    "\n",
    "    return sequence"
   ]
  },
  {
   "cell_type": "code",
   "execution_count": null,
   "id": "35f17023",
   "metadata": {},
   "outputs": [],
   "source": [
    "# Example: first 7 terms\n",
    "print(generate_lucas_serie_iterative(7))"
   ]
  },
  {
   "cell_type": "markdown",
   "id": "c4e54bb6",
   "metadata": {},
   "source": [
    "### Recursive Function"
   ]
  },
  {
   "cell_type": "code",
   "execution_count": null,
   "id": "8f60dc75",
   "metadata": {},
   "outputs": [],
   "source": [
    "def obtain_lucas_number(position):\n",
    "    \"\"\"Recursively compute the Lucas number at a specific position.\"\"\"\n",
    "    if position < 0:\n",
    "        raise ValueError(\"Position must be a non-negative integer\")\n",
    "    if position == 0:\n",
    "        return 1\n",
    "    if position == 1:\n",
    "        return 3\n",
    "    return obtain_lucas_number(position - 1) + obtain_lucas_number(position - 2)\n",
    "\n",
    "def generate_lucas_sequence_recursive(length):\n",
    "    \"\"\"Generate the first 'length' terms of the Lucas sequence using recursion.\"\"\"\n",
    "    return [obtain_lucas_number(i) for i in range(length)]"
   ]
  },
  {
   "cell_type": "code",
   "execution_count": null,
   "id": "534bdf19",
   "metadata": {},
   "outputs": [],
   "source": [
    "print(generate_lucas_sequence_recursive(7))"
   ]
  },
  {
   "cell_type": "markdown",
   "id": "1f90e4dc",
   "metadata": {},
   "source": [
    "## Implementing Function to Measure Energy Consumption and Execution Time"
   ]
  },
  {
   "cell_type": "code",
   "execution_count": null,
   "id": "653f5678",
   "metadata": {},
   "outputs": [],
   "source": [
    "# Initialize the log storage\n",
    "benchmark_log = []\n",
    "\n",
    "def measure_performance(function, input_size, description, execution_type):\n",
    "    \"\"\"\n",
    "    Measures execution time and carbon emissions for a given function.\n",
    "    \n",
    "    Args:\n",
    "        function (callable): The function to benchmark.\n",
    "        input_size (int): Input parameter (typically 'n').\n",
    "        description (str): Description of the function.\n",
    "        execution_type (str): Type of implementation, e.g., 'iterative', 'recursive'.\n",
    "    \"\"\"\n",
    "    tracker = EmissionsTracker(\n",
    "        output_dir='data',\n",
    "        output_file='lucas_emissions.csv',\n",
    "        tracking_mode='process',\n",
    "        log_level='warning',\n",
    "        project_name=description\n",
    "    )\n",
    "\n",
    "    tracker.start()\n",
    "    start_time = time.time()\n",
    "    function(input_size)\n",
    "    end_time = time.time()\n",
    "    emissions = tracker.stop()\n",
    "    duration = end_time - start_time\n",
    "\n",
    "    benchmark_log.append({\n",
    "        \"description\": description,\n",
    "        \"execution_type\": execution_type,\n",
    "        \"input_size\": input_size,\n",
    "        \"execution_time\": duration,\n",
    "        \"emissions\": emissions\n",
    "    })\n",
    "\n",
    "def get_benchmark_dataframe():\n",
    "    \"\"\"Returns the current benchmark log as a pandas DataFrame.\"\"\"\n",
    "    return pd.DataFrame(benchmark_log)"
   ]
  },
  {
   "cell_type": "code",
   "execution_count": null,
   "id": "1d716b48",
   "metadata": {},
   "outputs": [],
   "source": [
    "measure_performance(generate_lucas_serie_iterative, 10, \"Lucas Sequence - Iterative\", \"iterative\")\n",
    "measure_performance(generate_lucas_serie_iterative, 20, \"Lucas Sequence - Iterative\", \"iterative\")\n",
    "measure_performance(generate_lucas_serie_iterative, 30, \"Lucas Sequence - Iterative\", \"iterative\")\n",
    "\n",
    "measure_performance(generate_lucas_sequence_recursive, 10, \"Lucas Sequence - Recursive\", \"recursive\")\n",
    "measure_performance(generate_lucas_sequence_recursive, 20, \"Lucas Sequence - Recursive\", \"recursive\")\n",
    "measure_performance(generate_lucas_sequence_recursive, 30, \"Lucas Sequence - Recursive\", \"recursive\")\n",
    "\n",
    "# Display the benchmark results\n",
    "get_benchmark_dataframe()"
   ]
  },
  {
   "cell_type": "code",
   "execution_count": null,
   "id": "d0b27ed7",
   "metadata": {},
   "outputs": [],
   "source": [
    "measure_performance(generate_lucas_serie_iterative, 40, \"Lucas Sequence - Iterative\", \"iterative\")\n",
    "measure_performance(generate_lucas_serie_iterative, 50, \"Lucas Sequence - Iterative\", \"iterative\")\n",
    "measure_performance(generate_lucas_serie_iterative, 60, \"Lucas Sequence - Iterative\", \"iterative\")"
   ]
  },
  {
   "cell_type": "code",
   "execution_count": null,
   "id": "107cef9c",
   "metadata": {},
   "outputs": [],
   "source": [
    "# Display the benchmark results\n",
    "get_benchmark_dataframe()"
   ]
  },
  {
   "cell_type": "code",
   "execution_count": null,
   "id": "c1bf8e8a",
   "metadata": {},
   "outputs": [],
   "source": [
    "measure_performance(generate_lucas_sequence_recursive, 40, \"Lucas Sequence - Recursive\", \"recursive\")"
   ]
  },
  {
   "cell_type": "code",
   "execution_count": null,
   "id": "7fcbb329",
   "metadata": {},
   "outputs": [],
   "source": [
    "# Display the benchmark results\n",
    "get_benchmark_dataframe()"
   ]
  },
  {
   "cell_type": "code",
   "execution_count": null,
   "id": "f35acff2",
   "metadata": {},
   "outputs": [],
   "source": [
    "measure_performance(generate_lucas_sequence_recursive, 40, \"Lucas Sequence - Recursive\", \"recursive\")"
   ]
  },
  {
   "cell_type": "code",
   "execution_count": null,
   "id": "515c77c8",
   "metadata": {},
   "outputs": [],
   "source": [
    "# Display the benchmark results\n",
    "get_benchmark_dataframe()"
   ]
  },
  {
   "cell_type": "markdown",
   "id": "c33416b2",
   "metadata": {},
   "source": [
    "## Understanding the result"
   ]
  },
  {
   "cell_type": "markdown",
   "id": "0a787b7c",
   "metadata": {},
   "source": [
    "### Describing the dataframe\n",
    "\n",
    "| **Variable**     | **Type** | **Description**                                                                                     |\n",
    "|------------------|----------|-----------------------------------------------------------------------------------------------------|\n",
    "| `description`    | String   | Brief explanation of the code segment or function being analyzed.                                   |\n",
    "| `execution_type` | String   | Method of execution, such as 'iterative' or 'recursive'.                                            |\n",
    "| `input_size`     | Integer  | Size or magnitude of the input data processed during code execution.                                |\n",
    "| `execution_time` | Float    | Duration of the code execution in seconds.                                                          |\n",
    "| `emissions`      | Float    | Estimated amount of CO₂ emissions produced during code execution, measured in kilograms (kg).       |\n"
   ]
  },
  {
   "cell_type": "markdown",
   "id": "ba746c33",
   "metadata": {},
   "source": [
    "<div style=\"text-align: center;\">\n",
    "  <img src=\"images/transportation_carbon_footprint.png\" alt=\"Transportation footprint\" width=\"700\"/>\n",
    "</div>"
   ]
  },
  {
   "cell_type": "code",
   "execution_count": null,
   "id": "0bda36f0",
   "metadata": {},
   "outputs": [],
   "source": [
    "lucas_measures_df = get_benchmark_dataframe()\n",
    "lucas_measures_df.to_csv('data/lucas_measures.csv', index=False)"
   ]
  },
  {
   "cell_type": "markdown",
   "id": "70b4f4dd",
   "metadata": {},
   "source": [
    "### Analyzing the data"
   ]
  },
  {
   "cell_type": "code",
   "execution_count": null,
   "id": "a8c04c41",
   "metadata": {},
   "outputs": [],
   "source": [
    "plot_metric_vs_input_size(lucas_measures_df, 'emissions')"
   ]
  },
  {
   "cell_type": "code",
   "execution_count": null,
   "id": "96ef57ce",
   "metadata": {},
   "outputs": [],
   "source": [
    "plot_metric_vs_input_size(lucas_measures_df, 'execution_time')"
   ]
  },
  {
   "cell_type": "markdown",
   "id": "da8a1978",
   "metadata": {},
   "source": [
    "###  Analyzing the Correlation\n",
    "\n",
    "**Correlation** is a way to measure how two things are related.\n",
    "\n",
    "If one thing increases and the other increases too, we call that a **positive correlation**.  \n",
    "If one thing increases while the other decreases, that's a **negative correlation**.  \n",
    "If there's no clear pattern between them, we say there is **no correlation**.\n",
    "\n",
    "The result of correlation is a number between **-1** and **1**:\n",
    "\n",
    "- **+1** → perfect positive correlation  \n",
    "- **-1** → perfect negative correlation  \n",
    "- **0** → no correlation\n",
    "\n",
    "#### For instance:\n",
    "\n",
    "Imagine:\n",
    "\n",
    "- The more hours you **study**, the **higher your grades** are. 📚✏️  \n",
    "  → This is a **positive correlation**.\n",
    "\n",
    "- The more hours you **watch TV**, the **lower your grades** might be. 📺😅  \n",
    "  → This could be a **negative correlation**.\n",
    "\n",
    "- The number of **shoes you own** and your **math scores** probably have **no correlation**. 👟➕❓  \n",
    "  → They're not really connected."
   ]
  },
  {
   "cell_type": "code",
   "execution_count": null,
   "id": "d6c2d424",
   "metadata": {},
   "outputs": [],
   "source": [
    "# Calculate correlation\n",
    "correlation = lucas_measures_df['execution_time'].corr(lucas_measures_df['emissions'])\n",
    "\n",
    "print(f\"The correlation between execution_time and emissions is: {correlation}\")"
   ]
  },
  {
   "cell_type": "code",
   "execution_count": null,
   "id": "8fadd059",
   "metadata": {},
   "outputs": [],
   "source": [
    "plot_execution_time_vs_emissions(lucas_measures_df)"
   ]
  },
  {
   "cell_type": "markdown",
   "id": "7fb160b0",
   "metadata": {},
   "source": [
    "<div style=\"text-align: center;\">\n",
    "  <img src=\"images/home_carbon_footprint.png\" alt=\"Home footprint\" width=\"700\"/>\n",
    "</div>"
   ]
  },
  {
   "cell_type": "markdown",
   "id": "9d3289de",
   "metadata": {},
   "source": [
    "### Reducing cloud costs will lower the carbon footprint.\n",
    "\n",
    "<div style=\"text-align: center;\">\n",
    "  <img src=\"images/sgit-cost-reduction.png\" alt=\"Cloud cost reduction\" width=\"700\"/>\n",
    "</div>"
   ]
  },
  {
   "cell_type": "markdown",
   "id": "d2991dc8",
   "metadata": {},
   "source": [
    "## Resources\n",
    "* https://pypi.org/project/codecarbon/\n",
    "* https://learn.greensoftware.foundation/glossary/\n",
    "* https://clevercarbon.io/carbon-footprint-of-common-items#home\n",
    "* https://clevercarbon.io/carbon-footprint-of-common-items#transportation\n",
    "* https://tomrocksmaths.com/2024/01/16/visual-proofs-and-the-lucas-numbers/"
   ]
  }
 ],
 "metadata": {
  "kernelspec": {
   "display_name": "Python 3 (ipykernel)",
   "language": "python",
   "name": "python3"
  },
  "language_info": {
   "codemirror_mode": {
    "name": "ipython",
    "version": 3
   },
   "file_extension": ".py",
   "mimetype": "text/x-python",
   "name": "python",
   "nbconvert_exporter": "python",
   "pygments_lexer": "ipython3",
   "version": "3.9.12"
  }
 },
 "nbformat": 4,
 "nbformat_minor": 5
}
